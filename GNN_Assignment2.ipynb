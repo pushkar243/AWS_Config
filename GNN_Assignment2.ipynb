{
  "nbformat": 4,
  "nbformat_minor": 0,
  "metadata": {
    "colab": {
      "provenance": [],
      "include_colab_link": true
    },
    "kernelspec": {
      "name": "python3",
      "display_name": "Python 3"
    },
    "language_info": {
      "name": "python"
    }
  },
  "cells": [
    {
      "cell_type": "markdown",
      "metadata": {
        "id": "view-in-github",
        "colab_type": "text"
      },
      "source": [
        "<a href=\"https://colab.research.google.com/github/pushkar243/AWS_Config/blob/master/GNN_Assignment2.ipynb\" target=\"_parent\"><img src=\"https://colab.research.google.com/assets/colab-badge.svg\" alt=\"Open In Colab\"/></a>"
      ]
    },
    {
      "cell_type": "code",
      "execution_count": 1,
      "metadata": {
        "colab": {
          "base_uri": "https://localhost:8080/"
        },
        "id": "E3O_zshpG9jE",
        "outputId": "fbace391-f556-40db-f31d-44b8a4e0dffb"
      },
      "outputs": [
        {
          "output_type": "stream",
          "name": "stdout",
          "text": [
            "Requirement already satisfied: torch in /usr/local/lib/python3.10/dist-packages (2.4.0+cu121)\n",
            "Requirement already satisfied: torch-geometric in /usr/local/lib/python3.10/dist-packages (2.5.3)\n",
            "Requirement already satisfied: ogb in /usr/local/lib/python3.10/dist-packages (1.3.6)\n",
            "Requirement already satisfied: scikit-learn in /usr/local/lib/python3.10/dist-packages (1.3.2)\n",
            "Requirement already satisfied: filelock in /usr/local/lib/python3.10/dist-packages (from torch) (3.15.4)\n",
            "Requirement already satisfied: typing-extensions>=4.8.0 in /usr/local/lib/python3.10/dist-packages (from torch) (4.12.2)\n",
            "Requirement already satisfied: sympy in /usr/local/lib/python3.10/dist-packages (from torch) (1.13.2)\n",
            "Requirement already satisfied: networkx in /usr/local/lib/python3.10/dist-packages (from torch) (3.3)\n",
            "Requirement already satisfied: jinja2 in /usr/local/lib/python3.10/dist-packages (from torch) (3.1.4)\n",
            "Requirement already satisfied: fsspec in /usr/local/lib/python3.10/dist-packages (from torch) (2024.6.1)\n",
            "Requirement already satisfied: tqdm in /usr/local/lib/python3.10/dist-packages (from torch-geometric) (4.66.5)\n",
            "Requirement already satisfied: numpy in /usr/local/lib/python3.10/dist-packages (from torch-geometric) (1.26.4)\n",
            "Requirement already satisfied: scipy in /usr/local/lib/python3.10/dist-packages (from torch-geometric) (1.13.1)\n",
            "Requirement already satisfied: aiohttp in /usr/local/lib/python3.10/dist-packages (from torch-geometric) (3.10.5)\n",
            "Requirement already satisfied: requests in /usr/local/lib/python3.10/dist-packages (from torch-geometric) (2.32.3)\n",
            "Requirement already satisfied: pyparsing in /usr/local/lib/python3.10/dist-packages (from torch-geometric) (3.1.4)\n",
            "Requirement already satisfied: psutil>=5.8.0 in /usr/local/lib/python3.10/dist-packages (from torch-geometric) (5.9.5)\n",
            "Requirement already satisfied: pandas>=0.24.0 in /usr/local/lib/python3.10/dist-packages (from ogb) (2.1.4)\n",
            "Requirement already satisfied: six>=1.12.0 in /usr/local/lib/python3.10/dist-packages (from ogb) (1.16.0)\n",
            "Requirement already satisfied: urllib3>=1.24.0 in /usr/local/lib/python3.10/dist-packages (from ogb) (2.0.7)\n",
            "Requirement already satisfied: outdated>=0.2.0 in /usr/local/lib/python3.10/dist-packages (from ogb) (0.2.2)\n",
            "Requirement already satisfied: joblib>=1.1.1 in /usr/local/lib/python3.10/dist-packages (from scikit-learn) (1.4.2)\n",
            "Requirement already satisfied: threadpoolctl>=2.0.0 in /usr/local/lib/python3.10/dist-packages (from scikit-learn) (3.5.0)\n",
            "Requirement already satisfied: setuptools>=44 in /usr/local/lib/python3.10/dist-packages (from outdated>=0.2.0->ogb) (71.0.4)\n",
            "Requirement already satisfied: littleutils in /usr/local/lib/python3.10/dist-packages (from outdated>=0.2.0->ogb) (0.2.4)\n",
            "Requirement already satisfied: python-dateutil>=2.8.2 in /usr/local/lib/python3.10/dist-packages (from pandas>=0.24.0->ogb) (2.8.2)\n",
            "Requirement already satisfied: pytz>=2020.1 in /usr/local/lib/python3.10/dist-packages (from pandas>=0.24.0->ogb) (2024.1)\n",
            "Requirement already satisfied: tzdata>=2022.1 in /usr/local/lib/python3.10/dist-packages (from pandas>=0.24.0->ogb) (2024.1)\n",
            "Requirement already satisfied: aiohappyeyeballs>=2.3.0 in /usr/local/lib/python3.10/dist-packages (from aiohttp->torch-geometric) (2.4.0)\n",
            "Requirement already satisfied: aiosignal>=1.1.2 in /usr/local/lib/python3.10/dist-packages (from aiohttp->torch-geometric) (1.3.1)\n",
            "Requirement already satisfied: attrs>=17.3.0 in /usr/local/lib/python3.10/dist-packages (from aiohttp->torch-geometric) (24.2.0)\n",
            "Requirement already satisfied: frozenlist>=1.1.1 in /usr/local/lib/python3.10/dist-packages (from aiohttp->torch-geometric) (1.4.1)\n",
            "Requirement already satisfied: multidict<7.0,>=4.5 in /usr/local/lib/python3.10/dist-packages (from aiohttp->torch-geometric) (6.0.5)\n",
            "Requirement already satisfied: yarl<2.0,>=1.0 in /usr/local/lib/python3.10/dist-packages (from aiohttp->torch-geometric) (1.9.4)\n",
            "Requirement already satisfied: async-timeout<5.0,>=4.0 in /usr/local/lib/python3.10/dist-packages (from aiohttp->torch-geometric) (4.0.3)\n",
            "Requirement already satisfied: MarkupSafe>=2.0 in /usr/local/lib/python3.10/dist-packages (from jinja2->torch) (2.1.5)\n",
            "Requirement already satisfied: charset-normalizer<4,>=2 in /usr/local/lib/python3.10/dist-packages (from requests->torch-geometric) (3.3.2)\n",
            "Requirement already satisfied: idna<4,>=2.5 in /usr/local/lib/python3.10/dist-packages (from requests->torch-geometric) (3.8)\n",
            "Requirement already satisfied: certifi>=2017.4.17 in /usr/local/lib/python3.10/dist-packages (from requests->torch-geometric) (2024.7.4)\n",
            "Requirement already satisfied: mpmath<1.4,>=1.1.0 in /usr/local/lib/python3.10/dist-packages (from sympy->torch) (1.3.0)\n"
          ]
        }
      ],
      "source": [
        "!pip install torch torch-geometric ogb scikit-learn\n"
      ]
    },
    {
      "cell_type": "code",
      "source": [
        "#Import required libraries\n",
        "import torch\n",
        "import torch.nn.functional as F\n",
        "from torch_geometric.nn import GCNConv\n",
        "from torch_geometric.utils import negative_sampling\n",
        "from sklearn.metrics import roc_auc_score\n",
        "import numpy as np\n",
        "from ogb.linkproppred import LinkPropPredDataset, Evaluator\n"
      ],
      "metadata": {
        "id": "p1eAZBxcHOMr"
      },
      "execution_count": 2,
      "outputs": []
    },
    {
      "cell_type": "code",
      "source": [
        "##Define GCN Model\n",
        "class GCN(torch.nn.Module):\n",
        "    def __init__(self, in_channels, hidden_channels, out_channels):\n",
        "        super(GCN, self).__init__()\n",
        "        self.conv1 = GCNConv(in_channels, hidden_channels)\n",
        "        self.conv2 = GCNConv(hidden_channels, out_channels)\n",
        "\n",
        "    def forward(self, x, edge_index):\n",
        "        x = self.conv1(x, edge_index)\n",
        "        x = F.relu(x)\n",
        "        x = self.conv2(x, edge_index)\n",
        "        return x\n"
      ],
      "metadata": {
        "id": "7oZEfkOwHYGT"
      },
      "execution_count": 3,
      "outputs": []
    },
    {
      "cell_type": "code",
      "source": [
        "#Step 4: Load the Dataset\n",
        "dataset = LinkPropPredDataset(name=\"ogbl-collab\")\n",
        "split_edge = dataset.get_edge_split()\n",
        "data = dataset[0]\n"
      ],
      "metadata": {
        "colab": {
          "base_uri": "https://localhost:8080/"
        },
        "id": "SHNlhhphHeUL",
        "outputId": "d926a9c0-eb06-4efd-ceed-44b4135d2205"
      },
      "execution_count": 4,
      "outputs": [
        {
          "output_type": "stream",
          "name": "stderr",
          "text": [
            "/usr/local/lib/python3.10/dist-packages/ogb/linkproppred/dataset.py:67: FutureWarning: You are using `torch.load` with `weights_only=False` (the current default value), which uses the default pickle module implicitly. It is possible to construct malicious pickle data which will execute arbitrary code during unpickling (See https://github.com/pytorch/pytorch/blob/main/SECURITY.md#untrusted-models for more details). In a future release, the default value for `weights_only` will be flipped to `True`. This limits the functions that could be executed during unpickling. Arbitrary objects will no longer be allowed to be loaded via this mode unless they are explicitly allowlisted by the user via `torch.serialization.add_safe_globals`. We recommend you start setting `weights_only=True` for any use case where you don't have full control of the loaded file. Please open an issue on GitHub for any issues related to this experimental feature.\n",
            "  self.graph = torch.load(pre_processed_file_path, 'rb')\n",
            "/usr/local/lib/python3.10/dist-packages/ogb/linkproppred/dataset.py:138: FutureWarning: You are using `torch.load` with `weights_only=False` (the current default value), which uses the default pickle module implicitly. It is possible to construct malicious pickle data which will execute arbitrary code during unpickling (See https://github.com/pytorch/pytorch/blob/main/SECURITY.md#untrusted-models for more details). In a future release, the default value for `weights_only` will be flipped to `True`. This limits the functions that could be executed during unpickling. Arbitrary objects will no longer be allowed to be loaded via this mode unless they are explicitly allowlisted by the user via `torch.serialization.add_safe_globals`. We recommend you start setting `weights_only=True` for any use case where you don't have full control of the loaded file. Please open an issue on GitHub for any issues related to this experimental feature.\n",
            "  train = torch.load(osp.join(path, 'train.pt'))\n",
            "/usr/local/lib/python3.10/dist-packages/ogb/linkproppred/dataset.py:139: FutureWarning: You are using `torch.load` with `weights_only=False` (the current default value), which uses the default pickle module implicitly. It is possible to construct malicious pickle data which will execute arbitrary code during unpickling (See https://github.com/pytorch/pytorch/blob/main/SECURITY.md#untrusted-models for more details). In a future release, the default value for `weights_only` will be flipped to `True`. This limits the functions that could be executed during unpickling. Arbitrary objects will no longer be allowed to be loaded via this mode unless they are explicitly allowlisted by the user via `torch.serialization.add_safe_globals`. We recommend you start setting `weights_only=True` for any use case where you don't have full control of the loaded file. Please open an issue on GitHub for any issues related to this experimental feature.\n",
            "  valid = torch.load(osp.join(path, 'valid.pt'))\n",
            "/usr/local/lib/python3.10/dist-packages/ogb/linkproppred/dataset.py:140: FutureWarning: You are using `torch.load` with `weights_only=False` (the current default value), which uses the default pickle module implicitly. It is possible to construct malicious pickle data which will execute arbitrary code during unpickling (See https://github.com/pytorch/pytorch/blob/main/SECURITY.md#untrusted-models for more details). In a future release, the default value for `weights_only` will be flipped to `True`. This limits the functions that could be executed during unpickling. Arbitrary objects will no longer be allowed to be loaded via this mode unless they are explicitly allowlisted by the user via `torch.serialization.add_safe_globals`. We recommend you start setting `weights_only=True` for any use case where you don't have full control of the loaded file. Please open an issue on GitHub for any issues related to this experimental feature.\n",
            "  test = torch.load(osp.join(path, 'test.pt'))\n"
          ]
        }
      ]
    },
    {
      "cell_type": "code",
      "source": [
        "#Step 5: Move Data to the Device\n",
        "import torch\n",
        "\n",
        "device = torch.device('cuda' if torch.cuda.is_available() else 'cpu')\n",
        "\n",
        "# Convert numpy arrays to torch tensors and move them to the device\n",
        "edge_index = torch.tensor(data['edge_index'], dtype=torch.long).to(device)\n",
        "node_feat = torch.tensor(data['node_feat'], dtype=torch.float).to(device)  # Node features\n",
        "\n"
      ],
      "metadata": {
        "id": "fz_eeolqHmTa"
      },
      "execution_count": 5,
      "outputs": []
    },
    {
      "cell_type": "code",
      "source": [
        "#Step6: Initialize the model and optimizer\n",
        "model = GCN(in_channels=node_feat.size(1), hidden_channels=64, out_channels=64).to(device)\n",
        "optimizer = torch.optim.Adam(model.parameters(), lr=0.01)\n"
      ],
      "metadata": {
        "id": "cZbxaFmJIl-H"
      },
      "execution_count": 6,
      "outputs": []
    },
    {
      "cell_type": "code",
      "source": [
        "#Generate Negative Samples\n",
        "from torch_geometric.utils import negative_sampling\n",
        "\n",
        "# Sample negative edges\n",
        "num_nodes = node_feat.size(0)\n",
        "neg_edge_index = negative_sampling(edge_index, num_nodes=num_nodes)\n"
      ],
      "metadata": {
        "id": "3Rl34cbqJ_Gn"
      },
      "execution_count": 7,
      "outputs": []
    },
    {
      "cell_type": "code",
      "source": [
        "#Create Labels\n",
        "import torch\n",
        "\n",
        "# Create labels for positive and negative samples\n",
        "num_pos_edges = edge_index.size(1)\n",
        "num_neg_edges = neg_edge_index.size(1)\n",
        "\n",
        "# True edges labeled as 1\n",
        "pos_labels = torch.ones(num_pos_edges)\n",
        "\n",
        "# False edges labeled as 0\n",
        "neg_labels = torch.zeros(num_neg_edges)\n",
        "\n",
        "# Concatenate both positive and negative labels\n",
        "labels = torch.cat([pos_labels, neg_labels], dim=0).to(device)\n"
      ],
      "metadata": {
        "id": "I7TIJVtsKEva"
      },
      "execution_count": 8,
      "outputs": []
    },
    {
      "cell_type": "code",
      "source": [
        "#compute score and loss\n",
        "# Forward pass\n",
        "out = model(node_feat, edge_index)\n",
        "\n",
        "# Get node embeddings for positive and negative edges\n",
        "pos_out = out[edge_index[0]]  # Source node embeddings for positive edges\n",
        "pos_out = torch.sum(pos_out * out[edge_index[1]], dim=1)  # Dot product for edge scores\n",
        "\n",
        "neg_out = out[neg_edge_index[0]]  # Source node embeddings for negative edges\n",
        "neg_out = torch.sum(neg_out * out[neg_edge_index[1]], dim=1)  # Dot product for edge scores\n",
        "\n",
        "# Concatenate positive and negative edge scores\n",
        "edge_scores = torch.cat([pos_out, neg_out], dim=0)\n",
        "\n",
        "# Compute loss\n",
        "criterion = torch.nn.BCEWithLogitsLoss()\n",
        "loss = criterion(edge_scores, labels)\n"
      ],
      "metadata": {
        "id": "aN_4qpk1KJLP"
      },
      "execution_count": 9,
      "outputs": []
    },
    {
      "cell_type": "code",
      "source": [
        "#Complete Training Loop\n",
        "import torch\n",
        "from torch_geometric.nn import GCNConv\n",
        "from torch_geometric.utils import negative_sampling\n",
        "from torch.optim.lr_scheduler import ReduceLROnPlateau # Import ReduceLROnPlateau\n",
        "from sklearn.metrics import roc_auc_score\n",
        "\n",
        "class GCN(torch.nn.Module):\n",
        "    def __init__(self, in_channels, hidden_channels, out_channels):\n",
        "        super(GCN, self).__init__()\n",
        "        self.conv1 = GCNConv(in_channels, hidden_channels)\n",
        "        self.conv2 = GCNConv(hidden_channels, out_channels)\n",
        "\n",
        "    def forward(self, x, edge_index):\n",
        "        x = self.conv1(x, edge_index)\n",
        "        x = torch.relu(x)\n",
        "        x = self.conv2(x, edge_index)\n",
        "        return x\n",
        "\n",
        "# Prepare data\n",
        "device = torch.device('cuda' if torch.cuda.is_available() else 'cpu')\n",
        "edge_index = torch.tensor(data['edge_index'], dtype=torch.long).to(device)\n",
        "node_feat = torch.tensor(data['node_feat'], dtype=torch.float).to(device)\n",
        "\n",
        "# Generate negative samples\n",
        "num_nodes = node_feat.size(0)\n",
        "neg_edge_index = negative_sampling(edge_index, num_nodes=num_nodes)\n",
        "\n",
        "# Create labels\n",
        "num_pos_edges = edge_index.size(1)\n",
        "num_neg_edges = neg_edge_index.size(1)\n",
        "pos_labels = torch.ones(num_pos_edges).to(device)\n",
        "neg_labels = torch.zeros(num_neg_edges).to(device)\n",
        "labels = torch.cat([pos_labels, neg_labels], dim=0).to(device)\n",
        "\n",
        "# Initialize model, optimizer, and loss function\n",
        "model = GCN(in_channels=node_feat.size(1), hidden_channels=64, out_channels=64).to(device)\n",
        "optimizer = torch.optim.Adam(model.parameters(), lr=0.01)\n",
        "scheduler = ReduceLROnPlateau(optimizer, 'min', factor=0.1, patience=5)\n",
        "criterion = torch.nn.BCEWithLogitsLoss()\n",
        "\n",
        "# Training loop\n",
        "num_epochs = 100\n",
        "for epoch in range(num_epochs):\n",
        "    model.train()\n",
        "\n",
        "    # Forward pass\n",
        "    out = model(node_feat, edge_index)\n",
        "\n",
        "    # Get node embeddings for positive and negative edges\n",
        "    pos_out = out[edge_index[0]]\n",
        "    pos_out = torch.sum(pos_out * out[edge_index[1]], dim=1)\n",
        "\n",
        "    neg_out = out[neg_edge_index[0]]\n",
        "    neg_out = torch.sum(neg_out * out[neg_edge_index[1]], dim=1)\n",
        "\n",
        "    # Concatenate positive and negative edge scores\n",
        "    edge_scores = torch.cat([pos_out, neg_out], dim=0)\n",
        "\n",
        "    # Compute loss\n",
        "    loss = criterion(edge_scores, labels)\n",
        "\n",
        "    # Backward pass and optimization\n",
        "    optimizer.zero_grad()\n",
        "    loss.backward()\n",
        "    optimizer.step()\n",
        "\n",
        "    # Print loss every few epochs\n",
        "    if epoch % 2 == 0:\n",
        "        print(f'Epoch {epoch}, Loss: {loss.item()}')\n",
        "\n",
        "# Evaluation (optional)\n",
        "model.eval()\n",
        "with torch.no_grad():\n",
        "    out = model(node_feat, edge_index)\n",
        "\n",
        "    # Get embeddings for positive and negative edges\n",
        "    pos_out = out[edge_index[0]]\n",
        "    pos_out = torch.sum(pos_out * out[edge_index[1]], dim=1)\n",
        "\n",
        "    neg_out = out[neg_edge_index[0]]\n",
        "    neg_out = torch.sum(neg_out * out[neg_edge_index[1]], dim=1)\n",
        "\n",
        "    # Compute metrics\n",
        "    edge_scores = torch.cat([pos_out, neg_out], dim=0)\n",
        "    predictions = torch.sigmoid(edge_scores).cpu().numpy()\n",
        "    auc = roc_auc_score(labels.cpu().numpy(), predictions)\n",
        "    print(f'AUC Score: {auc}')\n"
      ],
      "metadata": {
        "colab": {
          "base_uri": "https://localhost:8080/"
        },
        "id": "cTgEYT7XKRw9",
        "outputId": "5881b552-8427-40d6-ef50-3b7b722e420f"
      },
      "execution_count": 10,
      "outputs": [
        {
          "output_type": "stream",
          "name": "stdout",
          "text": [
            "Epoch 0, Loss: 0.8311553001403809\n",
            "Epoch 2, Loss: 0.6295490860939026\n",
            "Epoch 4, Loss: 0.613135814666748\n",
            "Epoch 6, Loss: 0.5979081392288208\n",
            "Epoch 8, Loss: 0.5793540477752686\n",
            "Epoch 10, Loss: 0.5637637376785278\n",
            "Epoch 12, Loss: 0.5512006282806396\n",
            "Epoch 14, Loss: 0.5390623807907104\n",
            "Epoch 16, Loss: 0.5284470915794373\n",
            "Epoch 18, Loss: 0.5163910388946533\n",
            "Epoch 20, Loss: 0.5038124322891235\n",
            "Epoch 22, Loss: 0.49486276507377625\n",
            "Epoch 24, Loss: 0.49004825949668884\n",
            "Epoch 26, Loss: 0.48683062195777893\n",
            "Epoch 28, Loss: 0.48093435168266296\n",
            "Epoch 30, Loss: 0.4747813940048218\n",
            "Epoch 32, Loss: 0.4690723419189453\n",
            "Epoch 34, Loss: 0.4655914902687073\n",
            "Epoch 36, Loss: 0.4650138020515442\n",
            "Epoch 38, Loss: 0.4641154110431671\n",
            "Epoch 40, Loss: 0.46317434310913086\n",
            "Epoch 42, Loss: 0.461264431476593\n",
            "Epoch 44, Loss: 0.45880815386772156\n",
            "Epoch 46, Loss: 0.45658212900161743\n",
            "Epoch 48, Loss: 0.4545833170413971\n",
            "Epoch 50, Loss: 0.45324039459228516\n",
            "Epoch 52, Loss: 0.45210692286491394\n",
            "Epoch 54, Loss: 0.4508911073207855\n",
            "Epoch 56, Loss: 0.4496127963066101\n",
            "Epoch 58, Loss: 0.44841092824935913\n",
            "Epoch 60, Loss: 0.44761788845062256\n",
            "Epoch 62, Loss: 0.44791144132614136\n",
            "Epoch 64, Loss: 0.4455665946006775\n",
            "Epoch 66, Loss: 0.4449078440666199\n",
            "Epoch 68, Loss: 0.44270429015159607\n",
            "Epoch 70, Loss: 0.4415520429611206\n",
            "Epoch 72, Loss: 0.440220445394516\n",
            "Epoch 74, Loss: 0.43904656171798706\n",
            "Epoch 76, Loss: 0.4376966655254364\n",
            "Epoch 78, Loss: 0.43689459562301636\n",
            "Epoch 80, Loss: 0.4364590346813202\n",
            "Epoch 82, Loss: 0.4352244734764099\n",
            "Epoch 84, Loss: 0.43468615412712097\n",
            "Epoch 86, Loss: 0.4339574873447418\n",
            "Epoch 88, Loss: 0.4330092668533325\n",
            "Epoch 90, Loss: 0.4323762059211731\n",
            "Epoch 92, Loss: 0.4317054748535156\n",
            "Epoch 94, Loss: 0.431072473526001\n",
            "Epoch 96, Loss: 0.4304601550102234\n",
            "Epoch 98, Loss: 0.42989712953567505\n",
            "AUC Score: 0.9775748377940484\n"
          ]
        }
      ]
    },
    {
      "cell_type": "code",
      "source": [
        "# Ensure that 'device' is set correctly\n",
        "device = torch.device('cuda' if torch.cuda.is_available() else 'cpu')\n",
        "\n",
        "val_edges = torch.tensor(split_edge['valid']['edge'], dtype=torch.long).to(device)\n",
        "val_neg_edges = torch.tensor(split_edge['valid']['edge_neg'], dtype=torch.long).to(device)\n",
        "# Assuming split_edge is already defined\n",
        "val_edges = torch.tensor(split_edge['valid']['edge'], dtype=torch.long).to(device)\n",
        "val_neg_edges = torch.tensor(split_edge['valid']['edge_neg'], dtype=torch.long).to(device)\n",
        "\n",
        "# Forward pass with validation edges\n",
        "model.eval()\n",
        "with torch.no_grad():\n",
        "    out = model(node_feat, edge_index)\n",
        "\n",
        "    # Get embeddings for positive and negative validation edges\n",
        "    pos_val_out = out[val_edges[:, 0]] * out[val_edges[:, 1]]\n",
        "    pos_val_out = torch.sum(pos_val_out, dim=1)\n",
        "\n",
        "    neg_val_out = out[val_neg_edges[:, 0]] * out[val_neg_edges[:, 1]]\n",
        "    neg_val_out = torch.sum(neg_val_out, dim=1)\n",
        "\n",
        "    # Combine and calculate the AUC\n",
        "    val_scores = torch.cat([pos_val_out, neg_val_out], dim=0)\n",
        "    val_labels = torch.cat([torch.ones(pos_val_out.size(0)), torch.zeros(neg_val_out.size(0))], dim=0).to(device)\n",
        "\n",
        "    val_predictions = torch.sigmoid(val_scores).cpu().numpy()\n",
        "    auc = roc_auc_score(val_labels.cpu().numpy(), val_predictions)\n",
        "    print(f'Validation AUC: {auc}')\n"
      ],
      "metadata": {
        "colab": {
          "base_uri": "https://localhost:8080/"
        },
        "id": "ulj-_-DTSiFW",
        "outputId": "2161965d-8e88-4b71-cea8-49166a57a62d"
      },
      "execution_count": 11,
      "outputs": [
        {
          "output_type": "stream",
          "name": "stdout",
          "text": [
            "Validation AUC: 0.9437779717562079\n"
          ]
        }
      ]
    }
  ]
}